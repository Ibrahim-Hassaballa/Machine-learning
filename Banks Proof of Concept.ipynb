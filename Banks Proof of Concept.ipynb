{
 "cells": [
  {
   "cell_type": "code",
   "execution_count": null,
   "metadata": {},
   "outputs": [],
   "source": [
    "import numpy as np\n",
    "import pandas as pd \n",
    "import matplotlib.pyplot as plt\n",
    "import string\n",
    "import nltk\n",
    "from nltk import pos_tag \n",
    "from nltk.corpus import wordnet\n",
    "from nltk.tokenize import word_tokenize\n",
    "nltk.download('punkt')\n",
    "nltk.download('averaged_perceptron_tagger')\n",
    "from nltk.corpus import stopwords\n",
    "nltk.download('stopwords')\n",
    "from nltk.stem import WordNetLemmatizer\n",
    "nltk.download('wordnet')\n",
    "import re\n",
    "from nltk.stem.isri import ISRIStemmer\n",
    "import geocoder\n",
    "from sklearn.preprocessing import StandardScaler, LabelEncoder\n",
    "from sklearn import cluster\n",
    "import ast\n",
    "from datetime import date\n",
    "from sklearn.neighbors import KNeighborsClassifier\n",
    "import sklearn.metrics as mc\n",
    "import math\n",
    "from sklearn.feature_extraction.text import CountVectorizer,TfidfVectorizer\n",
    "from sklearn import cluster\n",
    "from sklearn.preprocessing import MinMaxScaler\n",
    "from sklearn.metrics import accuracy_score\n",
    "from sklearn.model_selection import cross_val_score"
   ]
  },
  {
   "cell_type": "code",
   "execution_count": 2,
   "metadata": {},
   "outputs": [],
   "source": [
    "def read_data(path):\n",
    "    data=pd.read_excel(path)\n",
    "    df = data.rename(columns=lambda x: x.strip())\n",
    "    return df"
   ]
  },
  {
   "cell_type": "code",
   "execution_count": 3,
   "metadata": {},
   "outputs": [],
   "source": [
    "def concat_all(data,axis):\n",
    "    main_df=pd.concat(data,sort=True,axis=axis)\n",
    "    main_df=main_df.reset_index().drop([\"index\"],axis=1)\n",
    "    return main_df"
   ]
  },
  {
   "cell_type": "code",
   "execution_count": 4,
   "metadata": {},
   "outputs": [],
   "source": [
    "def drop_columns(data):\n",
    "    full_null=data.columns[data.isna().sum()>=(len(data)-5)].tolist()\n",
    "    droped_coulmns=(full_null+[\"old collector\"]+[\"New collector\"]+[\"Customer Name\"]\n",
    "                    +[\"Agency Name\"]+[\"حساب احتياطى\"]+[\"Region\"]+['Branch name']\n",
    "                    +[\"ADDRESS1\",\"ADDRESS2\",\"ADDRESS3\"]+['التعليق']+[\"NationalID\"]\n",
    "                    +['JOINT Gurantor_CLI']+[\"Average amount should be paid to Mov ODA 1 bucket WITHIN same month\"]\n",
    "                    +[\"data\"]+[\"Home\"]+[\"Work\"]+['التاريخ في حاله السداد','التاريخ في حاله الوعد بالسداد']+[\"نتيجه الاتصال\",\"نوع الاتصال\"]\n",
    "                    +['latitude']+['longitude']+['Mobile','comment','legal feedback'])\n",
    "   \n",
    "    data=data.drop(columns=droped_coulmns,axis=1)\n",
    "    return data "
   ]
  },
  {
   "cell_type": "code",
   "execution_count": 5,
   "metadata": {},
   "outputs": [],
   "source": [
    "def fill_na(data):\n",
    "    x=lambda x: 0 if type(x)==str else x\n",
    "    data['المبلغ']=data['المبلغ'].fillna(0)\n",
    "    data[\"Age\"]=data[\"Age\"].fillna(data[\"Age\"].mean()).astype(int)\n",
    "    data[\"Contra Dues\"]=data[\"Contra Dues\"].apply(x).fillna(0)\n",
    "    data[\"PMT 11\"]=data[\"PMT 11\"].apply(x).fillna(0).astype(int)\n",
    "    data[\"ptp\"]=data[\"ptp\"].apply(x).fillna(0).astype(int)\n",
    "    return data"
   ]
  },
  {
   "cell_type": "code",
   "execution_count": 6,
   "metadata": {},
   "outputs": [],
   "source": [
    "def NationalID(ID):\n",
    "    ID=str(ID)\n",
    "    today = date.today()\n",
    "    if (len(ID)>=14) and (ID[0]==\"2\"):\n",
    "        age=today.year-int(\"19\"+ID[1:3])\n",
    "    elif(len(ID)>=14) and (ID[0]==\"3\"):\n",
    "        age=today.year-int(\"20\"+ID[1:3])\n",
    "    else:\n",
    "        age=None\n",
    "    return age\n",
    "\n",
    "def get_age(series):\n",
    "    age = series.apply(lambda x:NationalID(x))\n",
    "    return age"
   ]
  },
  {
   "cell_type": "code",
   "execution_count": 7,
   "metadata": {},
   "outputs": [],
   "source": [
    "def clean_text(text):\n",
    "    text = [word.strip(string.punctuation) for word in text.split(\" \")]\n",
    "    text = [word for word in text if not any(c.isdigit() for c in word)]\n",
    "    text = [t for t in text if len(t) > 0]\n",
    "    text = [ISRIStemmer().stem(t) for t in text]\n",
    "    text = [t for t in text if len(t) > 1]\n",
    "    text = \" \".join(text)\n",
    "    sent = re.sub(\"^\\d+\\s|\\s\\d+\\s|\\s\\d+$\", \"\", text)\n",
    "    sent = re.sub(\"[إأآا]\", \"ا\", sent)\n",
    "    sent = re.sub(\"[ة]\", \"ه\", sent)\n",
    "    sent = re.sub(r'(.)\\1+', r'\\1', sent)\n",
    "    return(text)"
   ]
  },
  {
   "cell_type": "code",
   "execution_count": 8,
   "metadata": {},
   "outputs": [],
   "source": [
    "def train_vectorizer(data):\n",
    "    vect = CountVectorizer().fit(data)\n",
    "    return vect\n"
   ]
  },
  {
   "cell_type": "code",
   "execution_count": 9,
   "metadata": {},
   "outputs": [],
   "source": [
    "def vectorize(data,vect):\n",
    "    data_vectorized = vect.transform(data)\n",
    "    return data_vectorized"
   ]
  },
  {
   "cell_type": "code",
   "execution_count": 10,
   "metadata": {},
   "outputs": [],
   "source": [
    "def encode_text(series):\n",
    "    cleaned_series = series.apply(lambda x :clean_text(x))\n",
    "    vect = train_vectorizer(cleaned_series)\n",
    "    vectorized = vectorize(cleaned_series,vect)\n",
    "    vectorized = pd.DataFrame(vectorized.A)\n",
    "    vectorized.columns = ['feature_vector' + str(i) for i in vectorized.columns]\n",
    "    return vectorized"
   ]
  },
  {
   "cell_type": "code",
   "execution_count": 11,
   "metadata": {},
   "outputs": [],
   "source": [
    "def clean_address(text):\n",
    "    text = [word.strip(string.punctuation) for word in text.split(\" \")]\n",
    "    text = [t for t in text if len(t) > 0]\n",
    "    text = [t for t in text if len(t) > 1]\n",
    "    text = \" \".join(text)\n",
    "    text = text + \", EGYPT\"\n",
    "    return(text)"
   ]
  },
  {
   "cell_type": "code",
   "execution_count": 12,
   "metadata": {},
   "outputs": [],
   "source": [
    "def get_lat_long(series):\n",
    "    cleaned_address = series.apply(lambda x : clean_address(x))\n",
    "    get_lat_long=lambda x: geocoder.bing(x,key='Auqv-r3CfIPHqEUrZv_mp3E6dngQJc7K5Maq8moOlqHH1pdKuI-IaCp2IcoCdZ_o').latlng\n",
    "    lat_long = cleaned_address.apply(get_lat_long)\n",
    "    get_long = lambda x:x[1]\n",
    "    get_lat = lambda x:x[0]\n",
    "    latitude = lat_long.apply(get_lat)\n",
    "    longitude = lat_long.apply(get_long)\n",
    "    return latitude, longitude"
   ]
  },
  {
   "cell_type": "code",
   "execution_count": 13,
   "metadata": {},
   "outputs": [],
   "source": [
    "def cluster_locations(lat,long,k):\n",
    "    km = cluster.KMeans(n_clusters=k)\n",
    "    labels = km.fit_predict(lat.values.reshape(-1,1),long.values.reshape(-1,1))\n",
    "    return labels"
   ]
  },
  {
   "cell_type": "code",
   "execution_count": 14,
   "metadata": {},
   "outputs": [],
   "source": [
    "#label encoding for categorical features\n",
    "def label_encode_categories(data):\n",
    "    sr=lambda x : str(x) if type(x)!=str else x\n",
    "    for i in data.columns:\n",
    "        if data[i].dtype == 'object':\n",
    "            data[i]=data[i].apply(sr)\n",
    "            LB = LabelEncoder()\n",
    "            data[i] = LB.fit_transform(data[i].values.reshape(-1,1))\n",
    "    return data\n"
   ]
  },
  {
   "cell_type": "code",
   "execution_count": 15,
   "metadata": {},
   "outputs": [],
   "source": [
    "def mobile(number):\n",
    "    number=str(number)\n",
    "    if len(number)==10:\n",
    "        if (number[0:2]==\"11\"):\n",
    "            comp=\"Etisalat\"\n",
    "        elif (number[0:2]==\"10\"):\n",
    "            comp=\"voda\"\n",
    "        elif number[0:2]==\"12\":\n",
    "            comp=\"Orang\"\n",
    "        else:\n",
    "            comp=None\n",
    "    elif len(number)==11:\n",
    "        if (number[0:3]==\"11\"):\n",
    "            comp=\"Etisalat\"\n",
    "        elif (number[0:3]==\"10\"):\n",
    "            comp=\"voda\"\n",
    "        elif number[0:3]==\"12\":\n",
    "            comp=\"Orang\"\n",
    "        else:\n",
    "            comp=None\n",
    "    else:\n",
    "        comp=None\n",
    "    \n",
    "    return comp\n",
    "\n",
    "def get_mobile_co(serios):\n",
    "    \n",
    "    co=serios.apply(lambda x: mobile(x))\n",
    "    \n",
    "    return co\n",
    "    "
   ]
  },
  {
   "cell_type": "code",
   "execution_count": 16,
   "metadata": {},
   "outputs": [],
   "source": [
    "def preprocessing(feature,k,axis):\n",
    "    feature[\"Age\"]=get_age(feature.NationalID)\n",
    "    feature['latitude'],feature['longitude']=get_lat_long(feature[\"JOINT Gurantor_CLI\"])\n",
    "    feature[\"location_cluster\"]=cluster_locations(feature['latitude'],feature['longitude'],k)\n",
    "    CT_vect=encode_text(feature[\"التعليق\"])\n",
    "    feature=concat_all([feature,CT_vect],axis)\n",
    "    feature[\"Mobile_co\"]=get_mobile_co(feature.Mobile)\n",
    "    feature=fill_na(feature)\n",
    "    feature=drop_columns(feature)\n",
    "    feature=label_encode_categories(feature)\n",
    "    return feature\n",
    "    "
   ]
  },
  {
   "cell_type": "code",
   "execution_count": 17,
   "metadata": {},
   "outputs": [],
   "source": [
    "sara = read_data('ساره.xlsx')"
   ]
  },
  {
   "cell_type": "code",
   "execution_count": 18,
   "metadata": {},
   "outputs": [],
   "source": [
    "marina = read_data(\"مارينا.xlsx\")"
   ]
  },
  {
   "cell_type": "code",
   "execution_count": 19,
   "metadata": {
    "scrolled": true
   },
   "outputs": [],
   "source": [
    "data=concat_all([marina,sara],0)"
   ]
  },
  {
   "cell_type": "code",
   "execution_count": 56,
   "metadata": {},
   "outputs": [],
   "source": [
    "feature=data.copy()"
   ]
  },
  {
   "cell_type": "markdown",
   "metadata": {},
   "source": [
    "#### remark_na=feature[feature[\"remark\"].notnull()].copy().reset_index().drop([\"index\"],axis=1)"
   ]
  },
  {
   "cell_type": "markdown",
   "metadata": {},
   "source": [
    "#### remark_na=remark_na.reset_index().drop([\"index\"],axis=1)"
   ]
  },
  {
   "cell_type": "markdown",
   "metadata": {},
   "source": [
    "remark_na=preprocessing(feature[feature[\"remark\"].notnull()].copy().reset_index().drop([\"index\"],axis=1),5,1)"
   ]
  },
  {
   "cell_type": "markdown",
   "metadata": {},
   "source": [
    "## Fill Null for Remark Column Using Knn Algoritm"
   ]
  },
  {
   "cell_type": "code",
   "execution_count": 57,
   "metadata": {},
   "outputs": [],
   "source": [
    "orignal=feature[\"remark\"]"
   ]
  },
  {
   "cell_type": "code",
   "execution_count": 58,
   "metadata": {},
   "outputs": [
    {
     "data": {
      "text/plain": [
       "ptp        12\n",
       "pay        11\n",
       "follow      6\n",
       "refuse      5\n",
       "pay+ptp     2\n",
       "Name: remark, dtype: int64"
      ]
     },
     "execution_count": 58,
     "metadata": {},
     "output_type": "execute_result"
    }
   ],
   "source": [
    "orignal.value_counts()"
   ]
  },
  {
   "cell_type": "code",
   "execution_count": 59,
   "metadata": {
    "scrolled": true
   },
   "outputs": [],
   "source": [
    "mask=feature[\"remark\"].isna()"
   ]
  },
  {
   "cell_type": "code",
   "execution_count": 60,
   "metadata": {},
   "outputs": [
    {
     "data": {
      "text/plain": [
       "0      True\n",
       "1      True\n",
       "2      True\n",
       "3      True\n",
       "4      True\n",
       "       ... \n",
       "630    True\n",
       "631    True\n",
       "632    True\n",
       "633    True\n",
       "634    True\n",
       "Name: remark, Length: 635, dtype: bool"
      ]
     },
     "execution_count": 60,
     "metadata": {},
     "output_type": "execute_result"
    }
   ],
   "source": [
    "mask"
   ]
  },
  {
   "cell_type": "code",
   "execution_count": 61,
   "metadata": {
    "scrolled": false
   },
   "outputs": [
    {
     "name": "stderr",
     "output_type": "stream",
     "text": [
      "C:\\ProgramData\\Anaconda3\\lib\\site-packages\\sklearn\\preprocessing\\_label.py:251: DataConversionWarning: A column-vector y was passed when a 1d array was expected. Please change the shape of y to (n_samples, ), for example using ravel().\n",
      "  y = column_or_1d(y, warn=True)\n"
     ]
    }
   ],
   "source": [
    "feature=preprocessing(feature.drop(columns=[\"CID\"],axis=1),200,1)"
   ]
  },
  {
   "cell_type": "code",
   "execution_count": 74,
   "metadata": {},
   "outputs": [
    {
     "data": {
      "text/plain": [
       "4    12\n",
       "2    11\n",
       "0     6\n",
       "5     5\n",
       "3     2\n",
       "Name: remark, dtype: int64"
      ]
     },
     "execution_count": 74,
     "metadata": {},
     "output_type": "execute_result"
    }
   ],
   "source": [
    "feature.remark.value_counts()"
   ]
  },
  {
   "cell_type": "code",
   "execution_count": 63,
   "metadata": {},
   "outputs": [],
   "source": [
    "feature[\"remark\"]=feature[\"remark\"].where(~mask,orignal)"
   ]
  },
  {
   "cell_type": "code",
   "execution_count": 87,
   "metadata": {},
   "outputs": [],
   "source": [
    "X_RK=feature[feature[\"remark\"].notna()].drop(columns=[\"remark\"])\n",
    "Y_Rk=feature[\"remark\"][feature[\"remark\"].notna()].values.ravel().astype(\"int\")"
   ]
  },
  {
   "cell_type": "code",
   "execution_count": 88,
   "metadata": {},
   "outputs": [],
   "source": [
    "scale=MinMaxScaler()\n",
    "X= scale.fit_transform(X_RK)"
   ]
  },
  {
   "cell_type": "code",
   "execution_count": 169,
   "metadata": {},
   "outputs": [],
   "source": [
    "knn = KNeighborsClassifier( n_neighbors=1)"
   ]
  },
  {
   "cell_type": "code",
   "execution_count": 170,
   "metadata": {},
   "outputs": [],
   "source": [
    "train=knn.fit(X,Y_Rk.ravel())"
   ]
  },
  {
   "cell_type": "code",
   "execution_count": 171,
   "metadata": {},
   "outputs": [],
   "source": [
    "test=feature[feature[\"remark\"].isna()].drop(columns=[\"remark\"])"
   ]
  },
  {
   "cell_type": "code",
   "execution_count": 172,
   "metadata": {},
   "outputs": [],
   "source": [
    "test=scale.fit_transform(feature[feature[\"remark\"].isna()].drop(columns=[\"remark\"]))"
   ]
  },
  {
   "cell_type": "code",
   "execution_count": 173,
   "metadata": {},
   "outputs": [
    {
     "data": {
      "text/plain": [
       "(36, 277)"
      ]
     },
     "execution_count": 173,
     "metadata": {},
     "output_type": "execute_result"
    }
   ],
   "source": [
    "X_RK.shape"
   ]
  },
  {
   "cell_type": "code",
   "execution_count": 174,
   "metadata": {},
   "outputs": [
    {
     "data": {
      "text/plain": [
       "(599, 277)"
      ]
     },
     "execution_count": 174,
     "metadata": {},
     "output_type": "execute_result"
    }
   ],
   "source": [
    "test.shape"
   ]
  },
  {
   "cell_type": "code",
   "execution_count": 175,
   "metadata": {},
   "outputs": [
    {
     "data": {
      "text/plain": [
       "array([2, 0, 5, 0, 0, 2, 4, 0, 4, 2, 4, 0, 5, 0, 2, 4, 4, 4, 5, 3, 4, 4,\n",
       "       5, 4, 4, 3, 2, 5, 4, 2, 2, 2, 4, 2, 2, 2])"
      ]
     },
     "execution_count": 175,
     "metadata": {},
     "output_type": "execute_result"
    }
   ],
   "source": [
    "Y_Rk"
   ]
  },
  {
   "cell_type": "code",
   "execution_count": 176,
   "metadata": {},
   "outputs": [],
   "source": [
    "predict=train.predict(test)"
   ]
  },
  {
   "cell_type": "code",
   "execution_count": 177,
   "metadata": {},
   "outputs": [],
   "source": [
    "dff=pd.DataFrame(predict)"
   ]
  },
  {
   "cell_type": "code",
   "execution_count": 178,
   "metadata": {},
   "outputs": [
    {
     "data": {
      "text/plain": [
       "2    573\n",
       "5     17\n",
       "4      9\n",
       "Name: 0, dtype: int64"
      ]
     },
     "execution_count": 178,
     "metadata": {},
     "output_type": "execute_result"
    }
   ],
   "source": [
    "dff[0].value_counts()"
   ]
  },
  {
   "cell_type": "code",
   "execution_count": 179,
   "metadata": {},
   "outputs": [],
   "source": [
    "df_out = pd.merge(feature[feature[\"remark\"].isna()].reset_index(),dff,how = 'left',left_index = True, right_index = True)"
   ]
  },
  {
   "cell_type": "code",
   "execution_count": 180,
   "metadata": {},
   "outputs": [],
   "source": [
    "df_out=df_out.set_index(df_out[\"index\"]).drop(columns=[\"index\"])"
   ]
  },
  {
   "cell_type": "code",
   "execution_count": 181,
   "metadata": {},
   "outputs": [
    {
     "data": {
      "text/html": [
       "<div>\n",
       "<style scoped>\n",
       "    .dataframe tbody tr th:only-of-type {\n",
       "        vertical-align: middle;\n",
       "    }\n",
       "\n",
       "    .dataframe tbody tr th {\n",
       "        vertical-align: top;\n",
       "    }\n",
       "\n",
       "    .dataframe thead th {\n",
       "        text-align: right;\n",
       "    }\n",
       "</style>\n",
       "<table border=\"1\" class=\"dataframe\">\n",
       "  <thead>\n",
       "    <tr style=\"text-align: right;\">\n",
       "      <th></th>\n",
       "      <th>remark</th>\n",
       "      <th>0</th>\n",
       "    </tr>\n",
       "    <tr>\n",
       "      <th>index</th>\n",
       "      <th></th>\n",
       "      <th></th>\n",
       "    </tr>\n",
       "  </thead>\n",
       "  <tbody>\n",
       "    <tr>\n",
       "      <th>0</th>\n",
       "      <td>NaN</td>\n",
       "      <td>2</td>\n",
       "    </tr>\n",
       "    <tr>\n",
       "      <th>1</th>\n",
       "      <td>NaN</td>\n",
       "      <td>2</td>\n",
       "    </tr>\n",
       "    <tr>\n",
       "      <th>2</th>\n",
       "      <td>NaN</td>\n",
       "      <td>2</td>\n",
       "    </tr>\n",
       "    <tr>\n",
       "      <th>3</th>\n",
       "      <td>NaN</td>\n",
       "      <td>2</td>\n",
       "    </tr>\n",
       "    <tr>\n",
       "      <th>4</th>\n",
       "      <td>NaN</td>\n",
       "      <td>2</td>\n",
       "    </tr>\n",
       "    <tr>\n",
       "      <th>...</th>\n",
       "      <td>...</td>\n",
       "      <td>...</td>\n",
       "    </tr>\n",
       "    <tr>\n",
       "      <th>630</th>\n",
       "      <td>NaN</td>\n",
       "      <td>2</td>\n",
       "    </tr>\n",
       "    <tr>\n",
       "      <th>631</th>\n",
       "      <td>NaN</td>\n",
       "      <td>2</td>\n",
       "    </tr>\n",
       "    <tr>\n",
       "      <th>632</th>\n",
       "      <td>NaN</td>\n",
       "      <td>2</td>\n",
       "    </tr>\n",
       "    <tr>\n",
       "      <th>633</th>\n",
       "      <td>NaN</td>\n",
       "      <td>2</td>\n",
       "    </tr>\n",
       "    <tr>\n",
       "      <th>634</th>\n",
       "      <td>NaN</td>\n",
       "      <td>2</td>\n",
       "    </tr>\n",
       "  </tbody>\n",
       "</table>\n",
       "<p>599 rows × 2 columns</p>\n",
       "</div>"
      ],
      "text/plain": [
       "      remark  0\n",
       "index          \n",
       "0        NaN  2\n",
       "1        NaN  2\n",
       "2        NaN  2\n",
       "3        NaN  2\n",
       "4        NaN  2\n",
       "...      ... ..\n",
       "630      NaN  2\n",
       "631      NaN  2\n",
       "632      NaN  2\n",
       "633      NaN  2\n",
       "634      NaN  2\n",
       "\n",
       "[599 rows x 2 columns]"
      ]
     },
     "execution_count": 181,
     "metadata": {},
     "output_type": "execute_result"
    }
   ],
   "source": [
    "df_out[['remark',0]]"
   ]
  },
  {
   "cell_type": "code",
   "execution_count": 182,
   "metadata": {},
   "outputs": [],
   "source": [
    "feature[\"remark\"]=feature[\"remark\"].fillna(df_out[0])"
   ]
  },
  {
   "cell_type": "code",
   "execution_count": null,
   "metadata": {},
   "outputs": [],
   "source": []
  }
 ],
 "metadata": {
  "kernelspec": {
   "display_name": "Python 2",
   "language": "python",
   "name": "python2"
  },
  "language_info": {
   "codemirror_mode": {
    "name": "ipython",
    "version": 2
   },
   "file_extension": ".py",
   "mimetype": "text/x-python",
   "name": "python",
   "nbconvert_exporter": "python",
   "pygments_lexer": "ipython2",
   "version": "2.7.15"
  }
 },
 "nbformat": 4,
 "nbformat_minor": 2
}
